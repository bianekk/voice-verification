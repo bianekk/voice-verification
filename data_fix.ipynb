{
 "cells": [
  {
   "cell_type": "code",
   "execution_count": 18,
   "metadata": {},
   "outputs": [],
   "source": [
    "import os\n",
    "import shutil"
   ]
  },
  {
   "cell_type": "code",
   "execution_count": 19,
   "metadata": {},
   "outputs": [],
   "source": [
    "# train_ids = set(next(os.walk('split_data/train'))[1])\n",
    "\n",
    "# val_ids = set(next(os.walk('split_data/val'))[1])\n",
    "\n",
    "# train_ids - val_ids\n",
    "\n",
    "# for id in (val_ids - train_ids):\n",
    "#     shutil.rmtree(os.path.join('split_data/val', id))"
   ]
  },
  {
   "cell_type": "code",
   "execution_count": 20,
   "metadata": {},
   "outputs": [],
   "source": [
    "training_ids = set(next(os.walk('split_data/train'))[1])\n",
    "valing_ids = set(next(os.walk('split_data/val'))[1])\n",
    "testing_ids = set(next(os.walk('test_users'))[1])"
   ]
  },
  {
   "cell_type": "code",
   "execution_count": 21,
   "metadata": {},
   "outputs": [],
   "source": [
    "dataset_path = 'split_data_white_noise_3'\n",
    "\n",
    "dataset_train_ids = set(next(os.walk(os.path.join(dataset_path, 'train')))[1])\n",
    "dataset_val_ids = set(next(os.walk(os.path.join(dataset_path, 'val')))[1])\n",
    "dataset_test_ids = set(next(os.walk(os.path.join(dataset_path, 'test')))[1])"
   ]
  },
  {
   "cell_type": "code",
   "execution_count": 22,
   "metadata": {},
   "outputs": [],
   "source": [
    "# for a in training_ids:\n",
    "#     if a not in dataset_train_ids:\n",
    "#         shutil.rmtree(os.path.join('split_data', 'train', a))\n",
    "#         shutil.rmtree(os.path.join('split_data', 'val', a))"
   ]
  },
  {
   "cell_type": "code",
   "execution_count": 23,
   "metadata": {},
   "outputs": [
    {
     "data": {
      "text/plain": [
       "(True, True, True)"
      ]
     },
     "execution_count": 23,
     "metadata": {},
     "output_type": "execute_result"
    }
   ],
   "source": [
    "check = lambda a,b: len(a.intersection(b)) == len(a) and len(a.intersection(b)) == len(b)\n",
    "\n",
    "(check(training_ids, dataset_train_ids),\n",
    "check(valing_ids, dataset_val_ids),\n",
    "check(testing_ids, dataset_test_ids),)"
   ]
  },
  {
   "cell_type": "code",
   "execution_count": 7,
   "metadata": {},
   "outputs": [],
   "source": [
    "for a in training_ids.intersection(dataset_test_ids):\n",
    "    train_wav = next(os.walk(os.path.join('split_data', 'train', a)))[2]\n",
    "    val_wav = next(os.walk(os.path.join('split_data', 'val', a)))[2]\n",
    "\n",
    "    os.mkdir(os.path.join(dataset_path, 'train', a))\n",
    "    os.mkdir(os.path.join(dataset_path, 'val', a))\n",
    "\n",
    "    for wav in train_wav:\n",
    "        shutil.move(os.path.join(dataset_path, 'test', a, wav), os.path.join(dataset_path, 'train', a))\n",
    "    for wav in val_wav:\n",
    "        shutil.move(os.path.join(dataset_path, 'test', a, wav), os.path.join(dataset_path, 'val', a))\n",
    "    \n",
    "    os.rmdir(os.path.join(dataset_path, 'test', a))"
   ]
  },
  {
   "cell_type": "code",
   "execution_count": 8,
   "metadata": {},
   "outputs": [],
   "source": [
    "for a in dataset_train_ids - training_ids:\n",
    "    shutil.rmtree(os.path.join(dataset_path, 'train', a))\n",
    "    shutil.rmtree(os.path.join(dataset_path, 'val', a))"
   ]
  },
  {
   "cell_type": "code",
   "execution_count": 10,
   "metadata": {},
   "outputs": [],
   "source": [
    "for a in dataset_test_ids:\n",
    "    if a not in dataset_test_ids.intersection(testing_ids):\n",
    "        try:\n",
    "            shutil.rmtree(os.path.join(dataset_path, 'test', a))\n",
    "        except:\n",
    "            pass"
   ]
  },
  {
   "cell_type": "code",
   "execution_count": 11,
   "metadata": {},
   "outputs": [],
   "source": [
    "new_dataset_train_ids = set(next(os.walk(os.path.join(dataset_path, 'train')))[1])\n",
    "new_dataset_val_ids = set(next(os.walk(os.path.join(dataset_path, 'val')))[1])\n",
    "new_dataset_test_ids = set(next(os.walk(os.path.join(dataset_path, 'test')))[1])"
   ]
  },
  {
   "cell_type": "code",
   "execution_count": 12,
   "metadata": {},
   "outputs": [
    {
     "data": {
      "text/plain": [
       "True"
      ]
     },
     "execution_count": 12,
     "metadata": {},
     "output_type": "execute_result"
    }
   ],
   "source": [
    "len(new_dataset_train_ids.intersection(new_dataset_val_ids)) == len(new_dataset_val_ids)"
   ]
  },
  {
   "cell_type": "code",
   "execution_count": 13,
   "metadata": {},
   "outputs": [
    {
     "data": {
      "text/plain": [
       "116"
      ]
     },
     "execution_count": 13,
     "metadata": {},
     "output_type": "execute_result"
    }
   ],
   "source": [
    "len(new_dataset_test_ids.intersection(testing_ids))"
   ]
  },
  {
   "cell_type": "code",
   "execution_count": 14,
   "metadata": {},
   "outputs": [
    {
     "data": {
      "text/plain": [
       "(116, 116)"
      ]
     },
     "execution_count": 14,
     "metadata": {},
     "output_type": "execute_result"
    }
   ],
   "source": [
    "len(testing_ids), len(new_dataset_test_ids)"
   ]
  },
  {
   "cell_type": "code",
   "execution_count": 15,
   "metadata": {},
   "outputs": [
    {
     "data": {
      "text/plain": [
       "0"
      ]
     },
     "execution_count": 15,
     "metadata": {},
     "output_type": "execute_result"
    }
   ],
   "source": [
    "len(new_dataset_test_ids.intersection(training_ids))"
   ]
  },
  {
   "cell_type": "code",
   "execution_count": 16,
   "metadata": {},
   "outputs": [
    {
     "data": {
      "text/plain": [
       "118"
      ]
     },
     "execution_count": 16,
     "metadata": {},
     "output_type": "execute_result"
    }
   ],
   "source": [
    "len(new_dataset_train_ids.intersection(training_ids))"
   ]
  },
  {
   "cell_type": "code",
   "execution_count": 17,
   "metadata": {},
   "outputs": [
    {
     "data": {
      "text/plain": [
       "0"
      ]
     },
     "execution_count": 17,
     "metadata": {},
     "output_type": "execute_result"
    }
   ],
   "source": [
    "len(new_dataset_train_ids - training_ids)"
   ]
  }
 ],
 "metadata": {
  "kernelspec": {
   "display_name": ".venv",
   "language": "python",
   "name": "python3"
  },
  "language_info": {
   "codemirror_mode": {
    "name": "ipython",
    "version": 3
   },
   "file_extension": ".py",
   "mimetype": "text/x-python",
   "name": "python",
   "nbconvert_exporter": "python",
   "pygments_lexer": "ipython3",
   "version": "3.12.1"
  }
 },
 "nbformat": 4,
 "nbformat_minor": 2
}
