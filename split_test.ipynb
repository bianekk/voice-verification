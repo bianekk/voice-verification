{
 "cells": [
  {
   "cell_type": "code",
   "execution_count": 4,
   "metadata": {},
   "outputs": [],
   "source": [
    "import os\n",
    "import shutil\n",
    "from sklearn.model_selection import train_test_split"
   ]
  },
  {
   "cell_type": "code",
   "execution_count": 5,
   "metadata": {},
   "outputs": [],
   "source": [
    "test_path = 'test_users'\n",
    "\n",
    "test_ids = set(next(os.walk(os.path.join(test_path)))[1])"
   ]
  },
  {
   "cell_type": "code",
   "execution_count": 6,
   "metadata": {},
   "outputs": [],
   "source": [
    "for a in test_ids:\n",
    "    test_wav = next(os.walk(os.path.join(test_path, a)))[2]\n",
    "\n",
    "    profile_wav, wild_wav = train_test_split(test_wav, test_size=0.33, random_state=42)\n",
    "\n",
    "    os.makedirs(os.path.join(test_path, 'profile', a))\n",
    "    os.makedirs(os.path.join(test_path, 'wild', a))\n",
    "\n",
    "    for wav in profile_wav:\n",
    "        shutil.move(os.path.join(test_path, a, wav), os.path.join(test_path, 'profile', a))\n",
    "    for wav in wild_wav:\n",
    "        shutil.move(os.path.join(test_path, a, wav), os.path.join(test_path, 'wild', a))\n",
    "    \n",
    "    os.rmdir(os.path.join(test_path, a))"
   ]
  }
 ],
 "metadata": {
  "kernelspec": {
   "display_name": ".venv",
   "language": "python",
   "name": "python3"
  },
  "language_info": {
   "codemirror_mode": {
    "name": "ipython",
    "version": 3
   },
   "file_extension": ".py",
   "mimetype": "text/x-python",
   "name": "python",
   "nbconvert_exporter": "python",
   "pygments_lexer": "ipython3",
   "version": "3.12.1"
  }
 },
 "nbformat": 4,
 "nbformat_minor": 2
}
