{
 "cells": [
  {
   "cell_type": "code",
   "execution_count": 15,
   "metadata": {},
   "outputs": [],
   "source": [
    "import os\n",
    "if os.path.basename(os.getcwd()) != 'biometria2':\n",
    "    os.chdir(os.path.dirname(os.getcwd()))\n",
    "import torch\n",
    "import splitfolders\n",
    "from tqdm import tqdm\n",
    "import random\n",
    "\n",
    "from Speaker_Verification.speech_embedder_net import SpeechEmbedder\n",
    "from notebooks.experiments_utils import make_experent\n",
    "from notebooks.experiments_utils import SpeakerDataset"
   ]
  },
  {
   "cell_type": "code",
   "execution_count": 28,
   "metadata": {},
   "outputs": [
    {
     "data": {
      "text/plain": [
       "<All keys matched successfully>"
      ]
     },
     "execution_count": 28,
     "metadata": {},
     "output_type": "execute_result"
    }
   ],
   "source": [
    "THRESHOLD = 0.3\n",
    "AUTH_USERS = ['Daniil_Hardzetski', 'Bianka_Kowalska', 'Hubert_Baran']\n",
    "embedder_net = SpeechEmbedder()\n",
    "embedder_net.load_state_dict(torch.load(os.path.join('.', 'speech_id_checkpoint', 'ckpt_epoch_300_batch_id_30.pth')))"
   ]
  },
  {
   "attachments": {},
   "cell_type": "markdown",
   "metadata": {},
   "source": [
    "### preparing data\n",
    "___"
   ]
  },
  {
   "cell_type": "code",
   "execution_count": null,
   "metadata": {},
   "outputs": [],
   "source": [
    "splitfolders.ratio('our_data/nasze', output='our_data/split_data', seed=1337, ratio=(.7, .3)) "
   ]
  },
  {
   "cell_type": "code",
   "execution_count": 7,
   "metadata": {},
   "outputs": [],
   "source": [
    "train_dataset = SpeakerDataset('our_data/split_data/train/*/*.wav', device='cpu')\n",
    "val_dataset = SpeakerDataset('our_data/split_data/val/*/*.wav', device='cpu')"
   ]
  },
  {
   "attachments": {},
   "cell_type": "markdown",
   "metadata": {},
   "source": [
    "### testing against same user\n",
    "___"
   ]
  },
  {
   "cell_type": "code",
   "execution_count": 24,
   "metadata": {},
   "outputs": [
    {
     "name": "stdout",
     "output_type": "stream",
     "text": [
      "Daniil_Hardzetski\n",
      "[1, 1, 1, 1, 1, 1, 0]\n",
      "TP = 85.71%\n",
      "Bianka_Kowalska\n",
      "[1, 1, 1, 1]\n",
      "TP = 100.00%\n",
      "Hubert_Baran\n",
      "[0, 1, 1]\n",
      "TP = 66.67%\n"
     ]
    }
   ],
   "source": [
    "for i, user in enumerate(AUTH_USERS):\n",
    "    print(user)\n",
    "    decisions = (make_experent(THRESHOLD, embedder_net(train_dataset[i]), embedder_net(val_dataset[i])))\n",
    "    print(decisions)\n",
    "    print(\"TP = {:.2f}%\".format(decisions.count(1)/len(decisions) * 100))\n",
    "    "
   ]
  },
  {
   "attachments": {},
   "cell_type": "markdown",
   "metadata": {},
   "source": [
    "### testing against random users\n",
    "___"
   ]
  },
  {
   "cell_type": "code",
   "execution_count": 33,
   "metadata": {},
   "outputs": [],
   "source": [
    "from typing import Iterable \n",
    "#from collections import Iterable                            # < py38\n",
    "\n",
    "\n",
    "def flatten(items):\n",
    "    \"\"\"Yield items from any nested iterable; see Reference.\"\"\"\n",
    "    for x in items:\n",
    "        if isinstance(x, Iterable) and not isinstance(x, (str, bytes)):\n",
    "            for sub_x in flatten(x):\n",
    "                yield sub_x\n",
    "        else:\n",
    "            yield x"
   ]
  },
  {
   "cell_type": "code",
   "execution_count": 35,
   "metadata": {},
   "outputs": [
    {
     "name": "stdout",
     "output_type": "stream",
     "text": [
      "Daniil_Hardzetski\n",
      "[0, 0, 1, 0, 0, 0, 1, 1, 0, 1, 1, 1, 1, 0, 0, 0, 0, 0, 0, 1, 0]\n",
      "TP = 38.10%\n",
      "Bianka_Kowalska\n",
      "[0, 1, 0, 0, 0, 0, 0, 0, 0, 1, 0, 0]\n",
      "TP = 16.67%\n",
      "Hubert_Baran\n",
      "[0, 0, 0, 0, 0, 0, 0, 0, 1]\n",
      "TP = 11.11%\n"
     ]
    }
   ],
   "source": [
    "def get_random_profile():\n",
    "    random_dataset = SpeakerDataset('split_data/val/*/*.wav', device='cpu')\n",
    "    random_id = random.choices(range(len(random_dataset)), k=1)\n",
    "    return random_dataset[random_id[0]]\n",
    "\n",
    "\n",
    "for i, user in enumerate(AUTH_USERS):\n",
    "    print(user)\n",
    "    decisions = []\n",
    "    for j in range(3):\n",
    "        decisions.append(make_experent(THRESHOLD, embedder_net(get_random_profile()), embedder_net(val_dataset[i])))\n",
    "    decisions = list(flatten(decisions))\n",
    "    print(decisions)\n",
    "    print(\"TP = {:.2f}%\".format(decisions.count(1)/len(decisions) * 100))"
   ]
  },
  {
   "attachments": {},
   "cell_type": "markdown",
   "metadata": {},
   "source": [
    "### testing against noised data\n",
    "___"
   ]
  },
  {
   "cell_type": "code",
   "execution_count": 37,
   "metadata": {},
   "outputs": [],
   "source": [
    "NOISES = ['barking_city', 'white_noise_1', 'white_noise_3']"
   ]
  },
  {
   "cell_type": "code",
   "execution_count": 43,
   "metadata": {},
   "outputs": [
    {
     "name": "stdout",
     "output_type": "stream",
     "text": [
      "== Daniil_Hardzetski ==\n",
      "testing against barking_city\n",
      "[1, 1, 1, 1, 1, 1, 1, 0, 1, 1, 0, 1, 1, 1, 1]\n",
      "TP = 86.67%\n",
      "testing against white_noise_1\n",
      "[1, 1, 1, 1, 1, 1, 1, 1, 1, 1, 1, 1, 1, 1, 1]\n",
      "TP = 100.00%\n",
      "testing against white_noise_3\n",
      "[0, 0, 0, 0, 0, 0, 0, 0, 0, 0, 0, 0, 0, 0, 0]\n",
      "TP = 0.00%\n",
      "== Bianka_Kowalska ==\n",
      "testing against barking_city\n",
      "[1, 1, 1, 1, 1, 1, 1]\n",
      "TP = 100.00%\n",
      "testing against white_noise_1\n",
      "[1, 1, 1, 1, 0, 1, 1]\n",
      "TP = 85.71%\n",
      "testing against white_noise_3\n",
      "[0, 1, 1, 1, 0, 0, 0]\n",
      "TP = 42.86%\n",
      "== Hubert_Baran ==\n",
      "testing against barking_city\n",
      "[1, 0, 1, 0, 0, 1, 0]\n",
      "TP = 42.86%\n",
      "testing against white_noise_1\n",
      "[1, 0, 1, 0, 1, 0, 0]\n",
      "TP = 42.86%\n",
      "testing against white_noise_3\n",
      "[0, 0, 0, 0, 1, 0, 0]\n",
      "TP = 14.29%\n"
     ]
    }
   ],
   "source": [
    "for i, user in enumerate(AUTH_USERS):\n",
    "    print(f\"== {user} ==\")\n",
    "    for noise in NOISES:\n",
    "        print(f'testing against {noise}')\n",
    "        noised_dataset = SpeakerDataset(f'our_data/{noise}/*/*.wav', device='cpu')\n",
    "        decisions = make_experent(THRESHOLD, embedder_net(noised_dataset[i]), embedder_net(train_dataset[i]))\n",
    "        print(decisions)\n",
    "        print(\"TP = {:.2f}%\".format(decisions.count(1)/len(decisions) * 100))"
   ]
  }
 ],
 "metadata": {
  "kernelspec": {
   "display_name": "Python 3",
   "language": "python",
   "name": "python3"
  },
  "language_info": {
   "codemirror_mode": {
    "name": "ipython",
    "version": 3
   },
   "file_extension": ".py",
   "mimetype": "text/x-python",
   "name": "python",
   "nbconvert_exporter": "python",
   "pygments_lexer": "ipython3",
   "version": "3.11.6"
  },
  "orig_nbformat": 4
 },
 "nbformat": 4,
 "nbformat_minor": 2
}
