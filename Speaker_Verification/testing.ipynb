{
 "cells": [
  {
   "cell_type": "code",
   "execution_count": 3,
   "metadata": {},
   "outputs": [],
   "source": [
    "import os\n",
    "if os.path.basename(os.getcwd()) != 'biometria2':\n",
    "    os.chdir(os.path.dirname(os.getcwd()))"
   ]
  },
  {
   "cell_type": "code",
   "execution_count": 30,
   "metadata": {},
   "outputs": [],
   "source": [
    "from speech_embedder_net import SpeechEmbedder\n",
    "from Speaker_Verification.utils import mfccs_and_spec\n",
    "import torch\n",
    "from hparam import hparam as hp\n",
    "\n",
    "class SpekerVerifier:\n",
    "    \"\"\"Class for loading the model and computing speech embeddings\"\"\"\n",
    "    def __init__(\n",
    "            self,\n",
    "            model_path: str = './speech_id_checkpoint/ckpt_epoch_360_batch_id_28.pth'\n",
    "            ) -> None:\n",
    "        self.model = SpeechEmbedder()\n",
    "        self.model.load_state_dict(torch.load(model_path))\n",
    "        self.model.eval()\n",
    "        pass\n",
    "\n",
    "    def compute_embedding(self, audio_input):\n",
    "        _, mel_db, _ = mfccs_and_spec(audio_input, wav_process = True)\n",
    "        mel_db = torch.Tensor(mel_db)\n",
    "        enrollment_batch = torch.reshape(mel_db, (1, mel_db.size(0), mel_db.size(1)))\n",
    "        embedding = self.model(torch.Tensor(enrollment_batch))\n",
    "        return embedding"
   ]
  },
  {
   "cell_type": "code",
   "execution_count": 35,
   "metadata": {},
   "outputs": [],
   "source": [
    "sample_file = 'split_data/train/id10001/00001.wav'\n",
    "sample_file_same = 'split_data/train/id10001/00002.wav'\n",
    "sample_file_diff = 'split_data/train/id10002/00002.wav'\n",
    "\n",
    "model = SpekerVerifier()\n",
    "embedding_org = model.compute_embedding(sample_file)\n",
    "embedding_same = model.compute_embedding(sample_file_same)\n",
    "embedding_diff = model.compute_embedding(sample_file_diff)"
   ]
  },
  {
   "cell_type": "code",
   "execution_count": 36,
   "metadata": {},
   "outputs": [
    {
     "data": {
      "text/plain": [
       "tensor([0.9327], grad_fn=<SumBackward1>)"
      ]
     },
     "execution_count": 36,
     "metadata": {},
     "output_type": "execute_result"
    }
   ],
   "source": [
    "import torch.nn.functional as F\n",
    "\n",
    "F.cosine_similarity(embedding_org, embedding_same)"
   ]
  },
  {
   "cell_type": "code",
   "execution_count": 37,
   "metadata": {},
   "outputs": [
    {
     "data": {
      "text/plain": [
       "tensor([0.7410], grad_fn=<SumBackward1>)"
      ]
     },
     "execution_count": 37,
     "metadata": {},
     "output_type": "execute_result"
    }
   ],
   "source": [
    "F.cosine_similarity(embedding_org, embedding_diff)"
   ]
  }
 ],
 "metadata": {
  "kernelspec": {
   "display_name": "Python 3",
   "language": "python",
   "name": "python3"
  },
  "language_info": {
   "codemirror_mode": {
    "name": "ipython",
    "version": 3
   },
   "file_extension": ".py",
   "mimetype": "text/x-python",
   "name": "python",
   "nbconvert_exporter": "python",
   "pygments_lexer": "ipython3",
   "version": "3.11.6"
  },
  "orig_nbformat": 4
 },
 "nbformat": 4,
 "nbformat_minor": 2
}
